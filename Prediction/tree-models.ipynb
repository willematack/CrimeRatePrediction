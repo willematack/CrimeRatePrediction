{
 "cells": [
  {
   "cell_type": "markdown",
   "id": "8f5d0c64-35a2-4ca9-86ea-21a5e6fcfe31",
   "metadata": {},
   "source": [
    "Import necessary packages"
   ]
  },
  {
   "cell_type": "code",
   "execution_count": 13,
   "id": "65575545-608b-40b3-9d32-800ed57f3aed",
   "metadata": {},
   "outputs": [],
   "source": [
    "import numpy as np\n",
    "import pandas as pd\n",
    "from sklearn.model_selection import train_test_split, KFold\n",
    "from sklearn.preprocessing import StandardScaler\n",
    "from sklearn import preprocessing, svm\n",
    "import matplotlib.pyplot as plt\n",
    "import math\n",
    "from sklearn.linear_model import LinearRegression\n",
    "from sklearn.metrics import mean_squared_error\n",
    "from sklearn.tree import DecisionTreeRegressor\n",
    "from sklearn.model_selection import GridSearchCV, RandomizedSearchCV\n",
    "from sklearn.ensemble import RandomForestRegressor, AdaBoostRegressor\n",
    "scaler = StandardScaler()\n",
    "from sklearn.model_selection import train_test_split, GridSearchCV"
   ]
  },
  {
   "cell_type": "markdown",
   "id": "500ce587-00ad-40c9-a4a6-44604e6b2dbd",
   "metadata": {},
   "source": [
    "Upload cleaned data - data already cleaned and pre-processed using R files"
   ]
  },
  {
   "cell_type": "code",
   "execution_count": 7,
   "id": "8424f6c0-692b-4179-b092-cfa5cbc0413b",
   "metadata": {},
   "outputs": [],
   "source": [
    "X_full = pd.read_csv(r\"C:\\Users\\wille\\Documents\\AppliedStats\\Project\\Data\\X.csv\")\n",
    "X_full = scaler.fit_transform(X_full)\n",
    "X_violent = pd.read_csv(r\"C:\\Users\\wille\\Documents\\AppliedStats\\Project\\Data\\X_refined_violent.csv\", index_col=0).values\n",
    "X_n_violent = pd.read_csv(r\"C:\\Users\\wille\\Documents\\AppliedStats\\Project\\Data\\X_refined_n_violent.csv\", index_col=0).values\n",
    "Y = pd.read_csv(r\"C:\\Users\\wille\\Documents\\AppliedStats\\Project\\Data\\Y.csv\", index_col = 0)\n",
    "target_violent = Y.Total_Violent.values\n",
    "target_n_violent = Y[\"Non.Violent\"].values"
   ]
  },
  {
   "cell_type": "raw",
   "id": "1ad93f15-7bac-4176-9012-84fc55c29363",
   "metadata": {},
   "source": [
    "Create Instance of 10-fold cross validation"
   ]
  },
  {
   "cell_type": "code",
   "execution_count": 8,
   "id": "91d485d6-ac27-4e26-b9a1-3c7408efd6ed",
   "metadata": {},
   "outputs": [],
   "source": [
    "k_folds = 10\n",
    "kf = KFold(n_splits=k_folds, shuffle=True, random_state=2101)"
   ]
  },
  {
   "cell_type": "markdown",
   "id": "0a154119-3cca-42b4-81e3-406d3834d06d",
   "metadata": {},
   "source": [
    "Create Random Forest Model"
   ]
  },
  {
   "cell_type": "code",
   "execution_count": 9,
   "id": "f7246be8-f054-43a4-84d3-1afacb6370bb",
   "metadata": {},
   "outputs": [],
   "source": [
    "mse_scores = []\n",
    "rf_model = RandomForestRegressor(random_state=2101)"
   ]
  },
  {
   "cell_type": "markdown",
   "id": "a7d4e68f-da37-4310-8345-02b7d86035a0",
   "metadata": {},
   "source": [
    "Create grid search object for hyper-parameter tuning"
   ]
  },
  {
   "cell_type": "code",
   "execution_count": 15,
   "id": "820f8ffb-6b6c-410b-9d47-d61da7e84a45",
   "metadata": {},
   "outputs": [],
   "source": [
    "rf_tuning_grid = {\n",
    "    'n_estimators': [50, 100, 200, 500],\n",
    "    'max_depth': [None, 10, 15, 20],\n",
    "    'min_samples_split': [ 2, 5, 10],\n",
    "    'min_samples_leaf': [1, 2, 4]\n",
    "}\n",
    "grid_search = GridSearchCV(estimator=rf_model, param_grid=rf_tuning_grid, cv=k_folds, scoring='neg_mean_squared_error')"
   ]
  },
  {
   "cell_type": "markdown",
   "id": "24b64b07-6563-479c-8502-3f2602664fb3",
   "metadata": {},
   "source": [
    "Now, perform the grid search and fit the best model for each data split"
   ]
  },
  {
   "cell_type": "code",
   "execution_count": null,
   "id": "3b28d36c-9711-4039-956a-16005fc8ea1a",
   "metadata": {},
   "outputs": [],
   "source": [
    "for train_index, test_index in kf.split(X_violent):\n",
    "    X_train, X_test = X_violent[train_index], X_violent[test_index]\n",
    "    y_train, y_test = target_violent[train_index], target_violent[test_index]\n",
    "\n",
    "    grid_search.fit(X_train, y_train)\n",
    "    best_params = grid_search.best_params_\n",
    "    best_rf_model = RandomForestRegressor(random_state=2101, **best_params)\n",
    "\n",
    "    #Fit the best model\n",
    "    best_rf_model.fit(X_train, y_train)\n",
    "\n",
    "\n",
    "    # Make predictions on the test data\n",
    "    y_pred = best_rf_model.predict(X_test)\n",
    "\n",
    "    # Calculate accuracy and store it\n",
    "    mse = mean_squared_error(y_test, y_pred)\n",
    "    mse_scores.append(mse)\n",
    "\n",
    "# Calculate the average accuracy across all folds\n",
    "rf_rv = np.sqrt(np.mean(mse_scores))"
   ]
  },
  {
   "cell_type": "code",
   "execution_count": null,
   "id": "4f52f1dd-f57a-4cee-9202-743670d17b5b",
   "metadata": {},
   "outputs": [],
   "source": [
    "print(\"Best MSE: \", rf_rv)"
   ]
  },
  {
   "cell_type": "markdown",
   "id": "30a95369-f821-4ae7-ba40-3c5dcb019bd8",
   "metadata": {},
   "source": [
    "Now, do the same with an XGBoost model"
   ]
  },
  {
   "cell_type": "code",
   "execution_count": null,
   "id": "8c632ed1-b705-41f4-b105-98e4a3859960",
   "metadata": {},
   "outputs": [],
   "source": [
    "from xgboost import XGBRegressor\n",
    "xgb_model = XGBRegressor(random_state=2101)\n",
    "xgb_tuning_grid = {\n",
    "   'n_estimators': [100, 200, 500],\n",
    "    'max_depth': [4, 6],\n",
    "    'learning_rate': [0.01, 0.1, 0.2],\n",
    "    'subsample': [0.8, 1.0],\n",
    "    'colsample_bytree': [0.8, 1.0]\n",
    "}\n",
    "xgb_grid_search = GridSearchCV(estimator=xgb_model, param_grid=xgb_tuning_grid, cv=k_folds, scoring='neg_mean_squared_error')"
   ]
  },
  {
   "cell_type": "code",
   "execution_count": 289,
   "id": "5b4d26c7-e6f6-4bba-a955-a6ad9cc4d941",
   "metadata": {},
   "outputs": [],
   "source": [
    "mse_scores = []\n",
    "\n",
    "# Perform k-fold cross-validation\n",
    "for train_index, test_index in kf.split(X_full):\n",
    "    X_train, X_test = X_full[train_index], X_full[test_index]\n",
    "    y_train, y_test = target_violent[train_index], target_violent[test_index]\n",
    "\n",
    "    xgb_grid_search.fit(X_train, y_train)\n",
    "    best_params = xgb_grid_search.best_params_\n",
    "    best_xgb_model = XGBRegressor(random_state=2101, **best_params)\n",
    "\n",
    "    #Fit the best model\n",
    "    best_xgb_model.fit(X_train, y_train)\n",
    "\n",
    "    # Make predictions on the test data\n",
    "    y_pred = best_xgb_model.predict(X_test)\n",
    "\n",
    "    # Calculate accuracy and store it\n",
    "    mse = mean_squared_error(y_test, y_pred)\n",
    "    mse_scores.append(mse)\n",
    "\n",
    "# Calculate the average accuracy across all folds\n",
    "xgb_mse = np.sqrt(np.mean(mse_scores))"
   ]
  },
  {
   "cell_type": "code",
   "execution_count": 290,
   "id": "6f65238d-8a2f-4998-b742-47dc82909f8d",
   "metadata": {},
   "outputs": [
    {
     "data": {
      "text/plain": [
       "378.28901811910174"
      ]
     },
     "execution_count": 290,
     "metadata": {},
     "output_type": "execute_result"
    }
   ],
   "source": [
    "print(\"XGB best MSE: \", xgb_mse)"
   ]
  },
  {
   "cell_type": "markdown",
   "id": "48f634f6-bde7-42f2-b286-cb70e0c8cb45",
   "metadata": {},
   "source": [
    "Finally, do the same with Light GBM"
   ]
  },
  {
   "cell_type": "code",
   "execution_count": 183,
   "id": "6ab1ae6d-9ad2-453f-8e20-fb49acf524de",
   "metadata": {},
   "outputs": [],
   "source": [
    "from lightgbm import LGBMRegressor\n",
    "lgbm = LGBMRegressor(random_state=2101)\n",
    "lgbm_tuning_grid = {\n",
    "   'n_estimators': [100, 200, 500],\n",
    "    'max_depth': [4, 6],\n",
    "    'learning_rate': [0.01, 0.1, 0.2],\n",
    "    'subsample': [0.8, 1.0],\n",
    "    'colsample_bytree': [0.8, 1.0]\n",
    "}\n",
    "lgbm_grid_search = GridSearchCV(estimator=lgbm_model, param_grid=lgbm_tuning_grid, cv=k_folds, scoring='neg_mean_squared_error')"
   ]
  },
  {
   "cell_type": "code",
   "execution_count": 326,
   "id": "c0c8b9a8-a2b8-4738-a5cb-633f58a614e6",
   "metadata": {},
   "outputs": [],
   "source": [
    "mse_scores = []\n",
    "\n",
    "# Perform k-fold cross-validation\n",
    "for train_index, test_index in kf.split(X_full):\n",
    "    X_train, X_test = X_full[train_index], X_full[test_index]\n",
    "    y_train, y_test = target_violent[train_index], target_violent[test_index]\n",
    "\n",
    "    lgbm_grid_search.fit(X_train, y_train)\n",
    "    best_params = lgbm_grid_search.best_params_\n",
    "    best_lgbm_model = LGBMRegressor(random_state=2101, **best_params)\n",
    "\n",
    "    #Fit the best model\n",
    "    best_lgbm_model.fit(X_train, y_train)\n",
    "\n",
    "    # Make predictions on the test data\n",
    "    y_pred = best_lgbm_model.predict(X_test)\n",
    "\n",
    "    # Calculate accuracy and store it\n",
    "    mse = mean_squared_error(y_test, y_pred)\n",
    "    mse_scores.append(mse)\n",
    "\n",
    "# Calculate the average accuracy across all folds\n",
    "lgbm_mse = np.sqrt(np.mean(mse_scores))"
   ]
  },
  {
   "cell_type": "code",
   "execution_count": 327,
   "id": "dd2fe458-2d7e-478c-a63d-f1f74ea423c5",
   "metadata": {},
   "outputs": [
    {
     "data": {
      "text/plain": [
       "370.7586193420597"
      ]
     },
     "execution_count": 327,
     "metadata": {},
     "output_type": "execute_result"
    }
   ],
   "source": [
    "print(\"LGBM best MSE: \", lgbm_mse)"
   ]
  },
  {
   "cell_type": "markdown",
   "id": "c4f5b630-732b-4c7f-9308-c5afa61f726f",
   "metadata": {},
   "source": [
    "Repeat for non-violent tree-based prediction .... results compiled in seperate files and presented in report"
   ]
  },
  {
   "cell_type": "code",
   "execution_count": null,
   "id": "308b87c3-5083-49d4-98a4-fe20cb5e5b07",
   "metadata": {},
   "outputs": [],
   "source": []
  }
 ],
 "metadata": {
  "kernelspec": {
   "display_name": "Python 3 (ipykernel)",
   "language": "python",
   "name": "python3"
  },
  "language_info": {
   "codemirror_mode": {
    "name": "ipython",
    "version": 3
   },
   "file_extension": ".py",
   "mimetype": "text/x-python",
   "name": "python",
   "nbconvert_exporter": "python",
   "pygments_lexer": "ipython3",
   "version": "3.11.5"
  }
 },
 "nbformat": 4,
 "nbformat_minor": 5
}
